{
 "cells": [
  {
   "cell_type": "markdown",
   "id": "ddbda0ea-53df-4dc9-b8c4-aeb836a5a964",
   "metadata": {
    "tags": []
   },
   "source": [
    "# Basic workflow with ManGO\n",
    "\n",
    "## Authentication with iCommands\n",
    "\n",
    "<div class=\"alert alert-block alert-info\">\n",
    "<h3>Every seven days</h3>\n",
    "    \n",
    "1. Go to https://mango.kuleuven.be/\n",
    "2. In the tab of your zone, click on \"How to connect\"\n",
    "3. Copy the snippet provided under \"iCommands Client on Linux\".\n",
    "\n",
    "<font size=3>Then **paste the snippet** in the cell below, right under `%%bash`, like the (anonimized) example below.</font>\n",
    "\n",
    "(Replacing the `USERNAME` with your username and the `TOKEN` with the password provided by \"How to connect\" should also work.)\n",
    "\n",
    "**You don't need to do this every time: The authentication lasts 7 days.**\n",
    "</div>"
   ]
  },
  {
   "cell_type": "code",
   "execution_count": null,
   "id": "75389006-f33e-400a-955d-32d0c8e2cdef",
   "metadata": {},
   "outputs": [],
   "source": [
    "%%bash\n",
    "mkdir -p ~/.irods\n",
    "cat > ~/.irods/irods_environment.json <<'EOF'\n",
    "{\n",
    "    \"irods_host\": \"vsc.irods.hpc.kuleuven.be\",\n",
    "    \"irods_port\": 1247,\n",
    "    \"irods_zone_name\": \"vsc\",\n",
    "    \"irods_authentication_scheme\": \"pam_password\",\n",
    "    \"irods_encryption_algorithm\": \"AES-256-CBC\",\n",
    "    \"irods_encryption_salt_size\": 8,\n",
    "    \"irods_encryption_key_size\": 32,\n",
    "    \"irods_encryption_num_hash_rounds\": 8,\n",
    "    \"irods_user_name\": \"USERNAME\",\n",
    "    \"irods_ssl_ca_certificate_file\": \"\",\n",
    "    \"irods_ssl_verify_server\": \"cert\",\n",
    "    \"irods_client_server_negotiation\": \"request_server_negotiation\",\n",
    "    \"irods_client_server_policy\": \"CS_NEG_REQUIRE\",\n",
    "    \"irods_default_resource\": \"default\",\n",
    "    \"irods_cwd\": \"/vsc/home\"\n",
    "}\n",
    "EOF\n",
    "iinit -h | grep Version | grep -v -q 4.2. || sed -i 's/\"irods_authentication_scheme\": \"pam_password\"/\"irods_authentication_scheme\": \"PAM\"/' ~/.irods/irods_environment.json\n",
    "echo 'TOKEN' | iinit --ttl 168 >/dev/null && echo You are now authenticated to irods. Your session is valid for 168 hours.\n",
    "ils"
   ]
  },
  {
   "cell_type": "markdown",
   "id": "15f280ec-850f-4075-aed9-a014d51161d4",
   "metadata": {},
   "source": [
    "## Setting up\n",
    "\n",
    "Set up ManGO and load any other libraries you need."
   ]
  },
  {
   "cell_type": "code",
   "execution_count": 2,
   "id": "f2219fb0-0976-4c99-8517-b5d4410589e4",
   "metadata": {},
   "outputs": [],
   "source": [
    "import os\n",
    "import ssl\n",
    "from irods.session import iRODSSession\n",
    "from irods.models import Collection, DataObject, DataObjectMeta\n",
    "from irods.column import Criterion\n",
    "from mango_mdschema import Schema\n",
    "import logging\n",
    "logger = logging.getLogger(\"mango_mdschema\") # to read the validation\n",
    "logger.setLevel(logging.INFO)\n",
    "try:\n",
    "    env_file = os.environ['IRODS_ENVIRONMENT_FILE']\n",
    "except KeyError:\n",
    "    env_file = os.path.expanduser('~/.irods/irods_environment.json')\n",
    "\n",
    "ssl_context = ssl.create_default_context(\n",
    "        purpose=ssl.Purpose.SERVER_AUTH,\n",
    "        cafile=None, capath=None, cadata=None\n",
    "        )\n",
    "ssl_settings = {'ssl_context': ssl_context}"
   ]
  },
  {
   "cell_type": "markdown",
   "id": "d4e70c2b-4b48-472b-9e1c-536aa76671e5",
   "metadata": {},
   "source": [
    "Since we are working interactively we will create an `irods.session.iRODSSession` object and then close it at the end of the notebook with `session.cleanup()`. If you were working on a script, you could run all your code inside a `with` statement."
   ]
  },
  {
   "cell_type": "code",
   "execution_count": 3,
   "id": "cbc35f71-9a79-478d-8f87-654b513048b8",
   "metadata": {},
   "outputs": [],
   "source": [
    "session = iRODSSession(irods_env_file=env_file, **ssl_settings)"
   ]
  },
  {
   "cell_type": "code",
   "execution_count": null,
   "id": "b9ad885e-4c20-4252-8e82-9642e2e66fd4",
   "metadata": {},
   "outputs": [],
   "source": [
    "home_dir = \"/vsc/home/ManGO-VIB/\""
   ]
  },
  {
   "cell_type": "markdown",
   "id": "be84e66d",
   "metadata": {},
   "source": [
    "## WRITE YOUR CODE BELOW THIS\n",
    "In all cases, you may use more cells than are provided"
   ]
  },
  {
   "cell_type": "markdown",
   "id": "92ed3169",
   "metadata": {},
   "source": [
    "Below, use your VSC number (e.g. \"vsc30000\") to provide the right path for the collection where you will store your output as well as the name (not full path) of the vcf file you created."
   ]
  },
  {
   "cell_type": "code",
   "execution_count": null,
   "id": "0148b66d-1f71-480c-afe1-6ee481c57174",
   "metadata": {},
   "outputs": [],
   "source": [
    "output_dir = home_dir + \"output/\" + \"USER/\" # it might be a different name\n",
    "output_filename = \"THE NAME OF YOUR OUTPUT FILE\""
   ]
  },
  {
   "cell_type": "markdown",
   "id": "eed408f9",
   "metadata": {},
   "source": [
    "In the cell below, query for files annotated with the `fastq` Schema and for which the \"organism\" is \"human\". Then retrieve the path after the query, (check the checksums) and download the files to your location."
   ]
  },
  {
   "cell_type": "code",
   "execution_count": null,
   "id": "0d4800e9-5889-4f8c-9375-3da5ba1e1f2d",
   "metadata": {},
   "outputs": [],
   "source": []
  },
  {
   "cell_type": "markdown",
   "id": "f4740a49",
   "metadata": {},
   "source": [
    "Once you have run your analysis, use the cell below to upload your output."
   ]
  },
  {
   "cell_type": "code",
   "execution_count": null,
   "id": "02a6b5cd",
   "metadata": {},
   "outputs": [],
   "source": []
  },
  {
   "cell_type": "markdown",
   "id": "03832034",
   "metadata": {},
   "source": [
    "Download the metadata schema from the home directory (\"vcf-1.0.0-published.json\") and inspect the fields it requests."
   ]
  },
  {
   "cell_type": "code",
   "execution_count": null,
   "id": "7ce06465",
   "metadata": {},
   "outputs": [],
   "source": [
    "schema_filename = \"vcf-1.0.0-published.json\"\n",
    "# DOWNLOAD THE FILE FROM MANGO"
   ]
  },
  {
   "cell_type": "code",
   "execution_count": null,
   "id": "38c70702",
   "metadata": {},
   "outputs": [],
   "source": [
    "vcf_schema = Schema(schema_filename)\n",
    "print(vcf_schema)"
   ]
  },
  {
   "cell_type": "markdown",
   "id": "b20c9aac",
   "metadata": {},
   "source": [
    "Create a dictionary with the metadata you know that you could use to fill the VCF schema.\n",
    "Note that \"sample_id\" should be a LIST with the values of `mgs.fastq.sample.sample_id` from your input files. So:\n",
    "- Retrieve the sample_id and organism from the input files\n",
    "- Register the software used to generate the VCF file."
   ]
  },
  {
   "cell_type": "code",
   "execution_count": null,
   "id": "738459ac",
   "metadata": {},
   "outputs": [],
   "source": []
  },
  {
   "cell_type": "markdown",
   "id": "2608afcc",
   "metadata": {},
   "source": [
    "Now that you have your dictionary, validate it and add the metadata to your uploaded output file."
   ]
  },
  {
   "cell_type": "code",
   "execution_count": null,
   "id": "25eb338b",
   "metadata": {},
   "outputs": [],
   "source": []
  },
  {
   "cell_type": "markdown",
   "id": "f05af7fa-54b7-4fbf-8047-f28c6899214e",
   "metadata": {
    "tags": []
   },
   "source": [
    "## CLEAN UP \n",
    "<div class=\"alert alert-block alert-warning\">\n",
    "    <font size=4><b>Do not forget to clean up your session!</b></font>\n",
    "</div>"
   ]
  },
  {
   "cell_type": "code",
   "execution_count": null,
   "id": "d5ac3e5c-9bcb-4e3c-a385-4193245c4bc2",
   "metadata": {},
   "outputs": [],
   "source": [
    "# leave this cell at the end and running every time you are done\n",
    "session.cleanup()"
   ]
  }
 ],
 "metadata": {
  "kernelspec": {
   "display_name": "venv",
   "language": "python",
   "name": "python3"
  },
  "language_info": {
   "codemirror_mode": {
    "name": "ipython",
    "version": 3
   },
   "file_extension": ".py",
   "mimetype": "text/x-python",
   "name": "python",
   "nbconvert_exporter": "python",
   "pygments_lexer": "ipython3",
   "version": "3.10.9"
  }
 },
 "nbformat": 4,
 "nbformat_minor": 5
}
