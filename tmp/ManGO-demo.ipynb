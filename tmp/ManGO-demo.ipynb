{
 "cells": [
  {
   "cell_type": "markdown",
   "id": "d657e8b2-8ccd-405c-8c5e-0020df9b99e6",
   "metadata": {},
   "source": [
    "# Basic workflow with ManGO\n",
    "\n",
    "## Authentication with iCommands\n",
    "\n",
    "<div class=\"alert alert-block alert-info\">\n",
    "<h3>Every seven days</h3>\n",
    "    \n",
    "1. Go to https://mango.vscentrum.be/\n",
    "2. In the tab of your zone, click on \"How to connect\"\n",
    "3. Copy the snippet provided under \"iCommands Client on Linux\".\n",
    "\n",
    "<font size=3>Then **paste the snippet** in the cell below, right under `%%bash`, like the (anonimized) example below.</font>\n",
    "\n",
    "(Replacing the `USERNAME` with your username and the `TOKEN` with the password provided by \"How to connect\" should also work.)\n",
    "\n",
    "**You don't need to do this every time: The authentication lasts 7 days.**\n",
    "</div>"
   ]
  },
  {
   "cell_type": "code",
   "execution_count": 12,
   "id": "e1888f9b-23c7-4e63-ad1f-51fa0023f642",
   "metadata": {},
   "outputs": [
    {
     "name": "stderr",
     "output_type": "stream",
     "text": [
      "bash: line 21: iinit: command not found\n",
      "sed: 1: \"/Users/u0089478/.irods/ ...\": invalid command code u\n",
      "bash: line 22: iinit: command not found\n",
      "bash: line 23: ils: command not found\n"
     ]
    },
    {
     "ename": "CalledProcessError",
     "evalue": "Command 'b'mkdir -p ~/.irods\\ncat > ~/.irods/irods_environment.json <<\\'EOF\\'\\n{\\n    \"irods_host\": \"vsc.irods.hpc.kuleuven.be\",\\n    \"irods_port\": 1247,\\n    \"irods_zone_name\": \"vsc\",\\n    \"irods_authentication_scheme\": \"pam_password\",\\n    \"irods_encryption_algorithm\": \"AES-256-CBC\",\\n    \"irods_encryption_salt_size\": 8,\\n    \"irods_encryption_key_size\": 32,\\n    \"irods_encryption_num_hash_rounds\": 8,\\n    \"irods_user_name\": \"USER\",\\n    \"irods_ssl_ca_certificate_file\": \"\",\\n    \"irods_ssl_verify_server\": \"cert\",\\n    \"irods_client_server_negotiation\": \"request_server_negotiation\",\\n    \"irods_client_server_policy\": \"CS_NEG_REQUIRE\",\\n    \"irods_default_resource\": \"default\",\\n    \"irods_cwd\": \"/vsc/home\"\\n}\\nEOF\\niinit -h | grep Version | grep -v -q 4.2. || sed -i \\'s/\"irods_authentication_scheme\": \"pam_password\"/\"irods_authentication_scheme\": \"PAM\"/\\' ~/.irods/irods_environment.json\\necho \\'TOKEN\\' | iinit --ttl 168 >/dev/null && echo You are now authenticated to irods. Your session is valid for 168 hours.\\nils\\n'' returned non-zero exit status 127.",
     "output_type": "error",
     "traceback": [
      "\u001b[0;31m---------------------------------------------------------------------------\u001b[0m",
      "\u001b[0;31mCalledProcessError\u001b[0m                        Traceback (most recent call last)",
      "Cell \u001b[0;32mIn[12], line 1\u001b[0m\n\u001b[0;32m----> 1\u001b[0m \u001b[43mget_ipython\u001b[49m\u001b[43m(\u001b[49m\u001b[43m)\u001b[49m\u001b[38;5;241;43m.\u001b[39;49m\u001b[43mrun_cell_magic\u001b[49m\u001b[43m(\u001b[49m\u001b[38;5;124;43m'\u001b[39;49m\u001b[38;5;124;43mbash\u001b[39;49m\u001b[38;5;124;43m'\u001b[39;49m\u001b[43m,\u001b[49m\u001b[43m \u001b[49m\u001b[38;5;124;43m'\u001b[39;49m\u001b[38;5;124;43m'\u001b[39;49m\u001b[43m,\u001b[49m\u001b[43m \u001b[49m\u001b[38;5;124;43m'\u001b[39;49m\u001b[38;5;124;43mmkdir -p ~/.irods\u001b[39;49m\u001b[38;5;130;43;01m\\n\u001b[39;49;00m\u001b[38;5;124;43mcat > ~/.irods/irods_environment.json <<\u001b[39;49m\u001b[38;5;130;43;01m\\'\u001b[39;49;00m\u001b[38;5;124;43mEOF\u001b[39;49m\u001b[38;5;130;43;01m\\'\u001b[39;49;00m\u001b[38;5;130;43;01m\\n\u001b[39;49;00m\u001b[38;5;124;43m{\u001b[39;49m\u001b[38;5;130;43;01m\\n\u001b[39;49;00m\u001b[38;5;124;43m    \u001b[39;49m\u001b[38;5;124;43m\"\u001b[39;49m\u001b[38;5;124;43mirods_host\u001b[39;49m\u001b[38;5;124;43m\"\u001b[39;49m\u001b[38;5;124;43m: \u001b[39;49m\u001b[38;5;124;43m\"\u001b[39;49m\u001b[38;5;124;43mvsc.irods.hpc.kuleuven.be\u001b[39;49m\u001b[38;5;124;43m\"\u001b[39;49m\u001b[38;5;124;43m,\u001b[39;49m\u001b[38;5;130;43;01m\\n\u001b[39;49;00m\u001b[38;5;124;43m    \u001b[39;49m\u001b[38;5;124;43m\"\u001b[39;49m\u001b[38;5;124;43mirods_port\u001b[39;49m\u001b[38;5;124;43m\"\u001b[39;49m\u001b[38;5;124;43m: 1247,\u001b[39;49m\u001b[38;5;130;43;01m\\n\u001b[39;49;00m\u001b[38;5;124;43m    \u001b[39;49m\u001b[38;5;124;43m\"\u001b[39;49m\u001b[38;5;124;43mirods_zone_name\u001b[39;49m\u001b[38;5;124;43m\"\u001b[39;49m\u001b[38;5;124;43m: \u001b[39;49m\u001b[38;5;124;43m\"\u001b[39;49m\u001b[38;5;124;43mvsc\u001b[39;49m\u001b[38;5;124;43m\"\u001b[39;49m\u001b[38;5;124;43m,\u001b[39;49m\u001b[38;5;130;43;01m\\n\u001b[39;49;00m\u001b[38;5;124;43m    \u001b[39;49m\u001b[38;5;124;43m\"\u001b[39;49m\u001b[38;5;124;43mirods_authentication_scheme\u001b[39;49m\u001b[38;5;124;43m\"\u001b[39;49m\u001b[38;5;124;43m: \u001b[39;49m\u001b[38;5;124;43m\"\u001b[39;49m\u001b[38;5;124;43mpam_password\u001b[39;49m\u001b[38;5;124;43m\"\u001b[39;49m\u001b[38;5;124;43m,\u001b[39;49m\u001b[38;5;130;43;01m\\n\u001b[39;49;00m\u001b[38;5;124;43m    \u001b[39;49m\u001b[38;5;124;43m\"\u001b[39;49m\u001b[38;5;124;43mirods_encryption_algorithm\u001b[39;49m\u001b[38;5;124;43m\"\u001b[39;49m\u001b[38;5;124;43m: \u001b[39;49m\u001b[38;5;124;43m\"\u001b[39;49m\u001b[38;5;124;43mAES-256-CBC\u001b[39;49m\u001b[38;5;124;43m\"\u001b[39;49m\u001b[38;5;124;43m,\u001b[39;49m\u001b[38;5;130;43;01m\\n\u001b[39;49;00m\u001b[38;5;124;43m    \u001b[39;49m\u001b[38;5;124;43m\"\u001b[39;49m\u001b[38;5;124;43mirods_encryption_salt_size\u001b[39;49m\u001b[38;5;124;43m\"\u001b[39;49m\u001b[38;5;124;43m: 8,\u001b[39;49m\u001b[38;5;130;43;01m\\n\u001b[39;49;00m\u001b[38;5;124;43m    \u001b[39;49m\u001b[38;5;124;43m\"\u001b[39;49m\u001b[38;5;124;43mirods_encryption_key_size\u001b[39;49m\u001b[38;5;124;43m\"\u001b[39;49m\u001b[38;5;124;43m: 32,\u001b[39;49m\u001b[38;5;130;43;01m\\n\u001b[39;49;00m\u001b[38;5;124;43m    \u001b[39;49m\u001b[38;5;124;43m\"\u001b[39;49m\u001b[38;5;124;43mirods_encryption_num_hash_rounds\u001b[39;49m\u001b[38;5;124;43m\"\u001b[39;49m\u001b[38;5;124;43m: 8,\u001b[39;49m\u001b[38;5;130;43;01m\\n\u001b[39;49;00m\u001b[38;5;124;43m    \u001b[39;49m\u001b[38;5;124;43m\"\u001b[39;49m\u001b[38;5;124;43mirods_user_name\u001b[39;49m\u001b[38;5;124;43m\"\u001b[39;49m\u001b[38;5;124;43m: \u001b[39;49m\u001b[38;5;124;43m\"\u001b[39;49m\u001b[38;5;124;43mUSER\u001b[39;49m\u001b[38;5;124;43m\"\u001b[39;49m\u001b[38;5;124;43m,\u001b[39;49m\u001b[38;5;130;43;01m\\n\u001b[39;49;00m\u001b[38;5;124;43m    \u001b[39;49m\u001b[38;5;124;43m\"\u001b[39;49m\u001b[38;5;124;43mirods_ssl_ca_certificate_file\u001b[39;49m\u001b[38;5;124;43m\"\u001b[39;49m\u001b[38;5;124;43m: \u001b[39;49m\u001b[38;5;124;43m\"\u001b[39;49m\u001b[38;5;124;43m\"\u001b[39;49m\u001b[38;5;124;43m,\u001b[39;49m\u001b[38;5;130;43;01m\\n\u001b[39;49;00m\u001b[38;5;124;43m    \u001b[39;49m\u001b[38;5;124;43m\"\u001b[39;49m\u001b[38;5;124;43mirods_ssl_verify_server\u001b[39;49m\u001b[38;5;124;43m\"\u001b[39;49m\u001b[38;5;124;43m: \u001b[39;49m\u001b[38;5;124;43m\"\u001b[39;49m\u001b[38;5;124;43mcert\u001b[39;49m\u001b[38;5;124;43m\"\u001b[39;49m\u001b[38;5;124;43m,\u001b[39;49m\u001b[38;5;130;43;01m\\n\u001b[39;49;00m\u001b[38;5;124;43m    \u001b[39;49m\u001b[38;5;124;43m\"\u001b[39;49m\u001b[38;5;124;43mirods_client_server_negotiation\u001b[39;49m\u001b[38;5;124;43m\"\u001b[39;49m\u001b[38;5;124;43m: \u001b[39;49m\u001b[38;5;124;43m\"\u001b[39;49m\u001b[38;5;124;43mrequest_server_negotiation\u001b[39;49m\u001b[38;5;124;43m\"\u001b[39;49m\u001b[38;5;124;43m,\u001b[39;49m\u001b[38;5;130;43;01m\\n\u001b[39;49;00m\u001b[38;5;124;43m    \u001b[39;49m\u001b[38;5;124;43m\"\u001b[39;49m\u001b[38;5;124;43mirods_client_server_policy\u001b[39;49m\u001b[38;5;124;43m\"\u001b[39;49m\u001b[38;5;124;43m: \u001b[39;49m\u001b[38;5;124;43m\"\u001b[39;49m\u001b[38;5;124;43mCS_NEG_REQUIRE\u001b[39;49m\u001b[38;5;124;43m\"\u001b[39;49m\u001b[38;5;124;43m,\u001b[39;49m\u001b[38;5;130;43;01m\\n\u001b[39;49;00m\u001b[38;5;124;43m    \u001b[39;49m\u001b[38;5;124;43m\"\u001b[39;49m\u001b[38;5;124;43mirods_default_resource\u001b[39;49m\u001b[38;5;124;43m\"\u001b[39;49m\u001b[38;5;124;43m: \u001b[39;49m\u001b[38;5;124;43m\"\u001b[39;49m\u001b[38;5;124;43mdefault\u001b[39;49m\u001b[38;5;124;43m\"\u001b[39;49m\u001b[38;5;124;43m,\u001b[39;49m\u001b[38;5;130;43;01m\\n\u001b[39;49;00m\u001b[38;5;124;43m    \u001b[39;49m\u001b[38;5;124;43m\"\u001b[39;49m\u001b[38;5;124;43mirods_cwd\u001b[39;49m\u001b[38;5;124;43m\"\u001b[39;49m\u001b[38;5;124;43m: \u001b[39;49m\u001b[38;5;124;43m\"\u001b[39;49m\u001b[38;5;124;43m/vsc/home\u001b[39;49m\u001b[38;5;124;43m\"\u001b[39;49m\u001b[38;5;130;43;01m\\n\u001b[39;49;00m\u001b[38;5;124;43m}\u001b[39;49m\u001b[38;5;130;43;01m\\n\u001b[39;49;00m\u001b[38;5;124;43mEOF\u001b[39;49m\u001b[38;5;130;43;01m\\n\u001b[39;49;00m\u001b[38;5;124;43miinit -h | grep Version | grep -v -q 4.2. || sed -i \u001b[39;49m\u001b[38;5;130;43;01m\\'\u001b[39;49;00m\u001b[38;5;124;43ms/\u001b[39;49m\u001b[38;5;124;43m\"\u001b[39;49m\u001b[38;5;124;43mirods_authentication_scheme\u001b[39;49m\u001b[38;5;124;43m\"\u001b[39;49m\u001b[38;5;124;43m: \u001b[39;49m\u001b[38;5;124;43m\"\u001b[39;49m\u001b[38;5;124;43mpam_password\u001b[39;49m\u001b[38;5;124;43m\"\u001b[39;49m\u001b[38;5;124;43m/\u001b[39;49m\u001b[38;5;124;43m\"\u001b[39;49m\u001b[38;5;124;43mirods_authentication_scheme\u001b[39;49m\u001b[38;5;124;43m\"\u001b[39;49m\u001b[38;5;124;43m: \u001b[39;49m\u001b[38;5;124;43m\"\u001b[39;49m\u001b[38;5;124;43mPAM\u001b[39;49m\u001b[38;5;124;43m\"\u001b[39;49m\u001b[38;5;124;43m/\u001b[39;49m\u001b[38;5;130;43;01m\\'\u001b[39;49;00m\u001b[38;5;124;43m ~/.irods/irods_environment.json\u001b[39;49m\u001b[38;5;130;43;01m\\n\u001b[39;49;00m\u001b[38;5;124;43mecho \u001b[39;49m\u001b[38;5;130;43;01m\\'\u001b[39;49;00m\u001b[38;5;124;43mTOKEN\u001b[39;49m\u001b[38;5;130;43;01m\\'\u001b[39;49;00m\u001b[38;5;124;43m | iinit --ttl 168 >/dev/null && echo You are now authenticated to irods. Your session is valid for 168 hours.\u001b[39;49m\u001b[38;5;130;43;01m\\n\u001b[39;49;00m\u001b[38;5;124;43mils\u001b[39;49m\u001b[38;5;130;43;01m\\n\u001b[39;49;00m\u001b[38;5;124;43m'\u001b[39;49m\u001b[43m)\u001b[49m\n",
      "File \u001b[0;32m~/.pyenv/versions/3.10.9/envs/beehive/lib/python3.10/site-packages/IPython/core/interactiveshell.py:2517\u001b[0m, in \u001b[0;36mInteractiveShell.run_cell_magic\u001b[0;34m(self, magic_name, line, cell)\u001b[0m\n\u001b[1;32m   2515\u001b[0m \u001b[38;5;28;01mwith\u001b[39;00m \u001b[38;5;28mself\u001b[39m\u001b[38;5;241m.\u001b[39mbuiltin_trap:\n\u001b[1;32m   2516\u001b[0m     args \u001b[38;5;241m=\u001b[39m (magic_arg_s, cell)\n\u001b[0;32m-> 2517\u001b[0m     result \u001b[38;5;241m=\u001b[39m \u001b[43mfn\u001b[49m\u001b[43m(\u001b[49m\u001b[38;5;241;43m*\u001b[39;49m\u001b[43margs\u001b[49m\u001b[43m,\u001b[49m\u001b[43m \u001b[49m\u001b[38;5;241;43m*\u001b[39;49m\u001b[38;5;241;43m*\u001b[39;49m\u001b[43mkwargs\u001b[49m\u001b[43m)\u001b[49m\n\u001b[1;32m   2519\u001b[0m \u001b[38;5;66;03m# The code below prevents the output from being displayed\u001b[39;00m\n\u001b[1;32m   2520\u001b[0m \u001b[38;5;66;03m# when using magics with decorator @output_can_be_silenced\u001b[39;00m\n\u001b[1;32m   2521\u001b[0m \u001b[38;5;66;03m# when the last Python token in the expression is a ';'.\u001b[39;00m\n\u001b[1;32m   2522\u001b[0m \u001b[38;5;28;01mif\u001b[39;00m \u001b[38;5;28mgetattr\u001b[39m(fn, magic\u001b[38;5;241m.\u001b[39mMAGIC_OUTPUT_CAN_BE_SILENCED, \u001b[38;5;28;01mFalse\u001b[39;00m):\n",
      "File \u001b[0;32m~/.pyenv/versions/3.10.9/envs/beehive/lib/python3.10/site-packages/IPython/core/magics/script.py:154\u001b[0m, in \u001b[0;36mScriptMagics._make_script_magic.<locals>.named_script_magic\u001b[0;34m(line, cell)\u001b[0m\n\u001b[1;32m    152\u001b[0m \u001b[38;5;28;01melse\u001b[39;00m:\n\u001b[1;32m    153\u001b[0m     line \u001b[38;5;241m=\u001b[39m script\n\u001b[0;32m--> 154\u001b[0m \u001b[38;5;28;01mreturn\u001b[39;00m \u001b[38;5;28;43mself\u001b[39;49m\u001b[38;5;241;43m.\u001b[39;49m\u001b[43mshebang\u001b[49m\u001b[43m(\u001b[49m\u001b[43mline\u001b[49m\u001b[43m,\u001b[49m\u001b[43m \u001b[49m\u001b[43mcell\u001b[49m\u001b[43m)\u001b[49m\n",
      "File \u001b[0;32m~/.pyenv/versions/3.10.9/envs/beehive/lib/python3.10/site-packages/IPython/core/magics/script.py:314\u001b[0m, in \u001b[0;36mScriptMagics.shebang\u001b[0;34m(self, line, cell)\u001b[0m\n\u001b[1;32m    309\u001b[0m \u001b[38;5;28;01mif\u001b[39;00m args\u001b[38;5;241m.\u001b[39mraise_error \u001b[38;5;129;01mand\u001b[39;00m p\u001b[38;5;241m.\u001b[39mreturncode \u001b[38;5;241m!=\u001b[39m \u001b[38;5;241m0\u001b[39m:\n\u001b[1;32m    310\u001b[0m     \u001b[38;5;66;03m# If we get here and p.returncode is still None, we must have\u001b[39;00m\n\u001b[1;32m    311\u001b[0m     \u001b[38;5;66;03m# killed it but not yet seen its return code. We don't wait for it,\u001b[39;00m\n\u001b[1;32m    312\u001b[0m     \u001b[38;5;66;03m# in case it's stuck in uninterruptible sleep. -9 = SIGKILL\u001b[39;00m\n\u001b[1;32m    313\u001b[0m     rc \u001b[38;5;241m=\u001b[39m p\u001b[38;5;241m.\u001b[39mreturncode \u001b[38;5;129;01mor\u001b[39;00m \u001b[38;5;241m-\u001b[39m\u001b[38;5;241m9\u001b[39m\n\u001b[0;32m--> 314\u001b[0m     \u001b[38;5;28;01mraise\u001b[39;00m CalledProcessError(rc, cell)\n",
      "\u001b[0;31mCalledProcessError\u001b[0m: Command 'b'mkdir -p ~/.irods\\ncat > ~/.irods/irods_environment.json <<\\'EOF\\'\\n{\\n    \"irods_host\": \"vsc.irods.hpc.kuleuven.be\",\\n    \"irods_port\": 1247,\\n    \"irods_zone_name\": \"vsc\",\\n    \"irods_authentication_scheme\": \"pam_password\",\\n    \"irods_encryption_algorithm\": \"AES-256-CBC\",\\n    \"irods_encryption_salt_size\": 8,\\n    \"irods_encryption_key_size\": 32,\\n    \"irods_encryption_num_hash_rounds\": 8,\\n    \"irods_user_name\": \"USER\",\\n    \"irods_ssl_ca_certificate_file\": \"\",\\n    \"irods_ssl_verify_server\": \"cert\",\\n    \"irods_client_server_negotiation\": \"request_server_negotiation\",\\n    \"irods_client_server_policy\": \"CS_NEG_REQUIRE\",\\n    \"irods_default_resource\": \"default\",\\n    \"irods_cwd\": \"/vsc/home\"\\n}\\nEOF\\niinit -h | grep Version | grep -v -q 4.2. || sed -i \\'s/\"irods_authentication_scheme\": \"pam_password\"/\"irods_authentication_scheme\": \"PAM\"/\\' ~/.irods/irods_environment.json\\necho \\'TOKEN\\' | iinit --ttl 168 >/dev/null && echo You are now authenticated to irods. Your session is valid for 168 hours.\\nils\\n'' returned non-zero exit status 127."
     ]
    }
   ],
   "source": [
    "%%bash\n",
    "mkdir -p ~/.irods\n",
    "cat > ~/.irods/irods_environment.json <<'EOF'\n",
    "{\n",
    "    \"irods_host\": \"vsc.irods.hpc.kuleuven.be\",\n",
    "    \"irods_port\": 1247,\n",
    "    \"irods_zone_name\": \"vsc\",\n",
    "    \"irods_authentication_scheme\": \"pam_password\",\n",
    "    \"irods_encryption_algorithm\": \"AES-256-CBC\",\n",
    "    \"irods_encryption_salt_size\": 8,\n",
    "    \"irods_encryption_key_size\": 32,\n",
    "    \"irods_encryption_num_hash_rounds\": 8,\n",
    "    \"irods_user_name\": \"USER\",\n",
    "    \"irods_ssl_ca_certificate_file\": \"\",\n",
    "    \"irods_ssl_verify_server\": \"cert\",\n",
    "    \"irods_client_server_negotiation\": \"request_server_negotiation\",\n",
    "    \"irods_client_server_policy\": \"CS_NEG_REQUIRE\",\n",
    "    \"irods_default_resource\": \"default\",\n",
    "    \"irods_cwd\": \"/vsc/home\"\n",
    "}\n",
    "EOF\n",
    "iinit -h | grep Version | grep -v -q 4.2. || sed -i 's/\"irods_authentication_scheme\": \"pam_password\"/\"irods_authentication_scheme\": \"PAM\"/' ~/.irods/irods_environment.json\n",
    "echo 'TOKEN' | iinit --ttl 168 >/dev/null && echo You are now authenticated to irods. Your session is valid for 168 hours.\n",
    "ils"
   ]
  },
  {
   "cell_type": "markdown",
   "id": "15f280ec-850f-4075-aed9-a014d51161d4",
   "metadata": {
    "tags": []
   },
   "source": [
    "## Setting up\n",
    "\n",
    "The first step _in each session_ is to set up ManGO (and load any other libraries you need)."
   ]
  },
  {
   "cell_type": "code",
   "execution_count": 14,
   "id": "f2219fb0-0976-4c99-8517-b5d4410589e4",
   "metadata": {
    "tags": []
   },
   "outputs": [],
   "source": [
    "import os\n",
    "import ssl\n",
    "from irods.session import iRODSSession # to communicate with ManGO\n",
    "from mango_mdschema import Schema, ValidationError, ConversionError # to add structured metadata\n",
    "import logging\n",
    "logger = logging.getLogger(\"mango_mdschema\") # to read the validation\n",
    "logger.setLevel(logging.INFO)\n",
    "try:\n",
    "    env_file = os.environ['IRODS_ENVIRONMENT_FILE']\n",
    "except KeyError:\n",
    "    env_file = os.path.expanduser('~/.irods/irods_environment.json')\n",
    "\n",
    "ssl_context = ssl.create_default_context(\n",
    "        purpose=ssl.Purpose.SERVER_AUTH,\n",
    "        cafile=None, capath=None, cadata=None\n",
    "        )\n",
    "ssl_settings = {'ssl_context': ssl_context}"
   ]
  },
  {
   "cell_type": "markdown",
   "id": "d4e70c2b-4b48-472b-9e1c-536aa76671e5",
   "metadata": {},
   "source": [
    "Since we are working interactively we will create an `irods.session.iRODSSession` object and then close it at the end of the notebook with `session.cleanup()`. If you were working on a script, you could run all your code inside a `with` statement."
   ]
  },
  {
   "cell_type": "code",
   "execution_count": 15,
   "id": "cbc35f71-9a79-478d-8f87-654b513048b8",
   "metadata": {},
   "outputs": [],
   "source": [
    "session = iRODSSession(irods_env_file=env_file, **ssl_settings)"
   ]
  },
  {
   "cell_type": "markdown",
   "id": "4c1dfee3",
   "metadata": {},
   "source": []
  },
  {
   "cell_type": "markdown",
   "id": "d2af0428-df48-4703-b0ce-da42ca6ebd3c",
   "metadata": {},
   "source": [
    "The final step to set up your environment is to define your working directory in a variable. For this notebook, it's \"/vsc/home/ManGO-VIB/\" (the training project). Other projects will have other paths."
   ]
  },
  {
   "cell_type": "code",
   "execution_count": 16,
   "id": "b9ad885e-4c20-4252-8e82-9642e2e66fd4",
   "metadata": {},
   "outputs": [],
   "source": [
    "home_dir = \"/gbiomed/home/BADS/\""
   ]
  },
  {
   "cell_type": "markdown",
   "id": "4c4640dd-f867-4902-8266-b9d6cb4dfd16",
   "metadata": {},
   "source": [
    "You will need all the code above at the start of any notebook that needs to connect to ManGO.\n",
    "\n",
    "--------------\n",
    "\n",
    "The code below is illustration of basic functions to communicate with ManGO; take them as a cheatsheet and use them at your convenience."
   ]
  },
  {
   "cell_type": "markdown",
   "id": "d254cf7b-f5e3-4f3f-bc23-f2b4c48b879a",
   "metadata": {},
   "source": [
    "## Collections\n",
    "\n",
    "You can connect to a specific iRODS collection with `session.collections.get(\"/path/to/collection\")`; this could be your home collection, project collection or any other sub-collection. After you instantiate the collection you prefer, you can see some basic information about it. The `subcollections` and `data_objects` attributes return lists of the sub-collections and data objects of this instantiated collection.\n",
    "Let's retrieve our existing home collection:"
   ]
  },
  {
   "cell_type": "code",
   "execution_count": 17,
   "id": "b4755481-ed35-4cbf-94b3-fa902e4e316b",
   "metadata": {},
   "outputs": [
    {
     "ename": "CAT_INVALID_AUTHENTICATION",
     "evalue": "None",
     "output_type": "error",
     "traceback": [
      "\u001b[0;31m---------------------------------------------------------------------------\u001b[0m",
      "\u001b[0;31mSyntaxError\u001b[0m                               Traceback (most recent call last)",
      "File \u001b[0;32m~/.pyenv/versions/3.10.9/envs/beehive/lib/python3.10/site-packages/irods/session.py:290\u001b[0m, in \u001b[0;36miRODSSession.server_version\u001b[0;34m(self)\u001b[0m\n\u001b[1;32m    289\u001b[0m     reported_vsn \u001b[38;5;241m=\u001b[39m os\u001b[38;5;241m.\u001b[39menviron\u001b[38;5;241m.\u001b[39mget(\u001b[38;5;124m\"\u001b[39m\u001b[38;5;124mPYTHON_IRODSCLIENT_REPORTED_SERVER_VERSION\u001b[39m\u001b[38;5;124m\"\u001b[39m,\u001b[38;5;124m\"\u001b[39m\u001b[38;5;124m\"\u001b[39m)\n\u001b[0;32m--> 290\u001b[0m     \u001b[38;5;28;01mreturn\u001b[39;00m \u001b[38;5;28mtuple\u001b[39m(\u001b[43mast\u001b[49m\u001b[38;5;241;43m.\u001b[39;49m\u001b[43mliteral_eval\u001b[49m\u001b[43m(\u001b[49m\u001b[43mreported_vsn\u001b[49m\u001b[43m)\u001b[49m)\n\u001b[1;32m    291\u001b[0m \u001b[38;5;28;01mexcept\u001b[39;00m \u001b[38;5;167;01mSyntaxError\u001b[39;00m:  \u001b[38;5;66;03m# environment variable was malformed, empty, or unset\u001b[39;00m\n",
      "File \u001b[0;32m~/.pyenv/versions/3.10.9/lib/python3.10/ast.py:64\u001b[0m, in \u001b[0;36mliteral_eval\u001b[0;34m(node_or_string)\u001b[0m\n\u001b[1;32m     63\u001b[0m \u001b[38;5;28;01mif\u001b[39;00m \u001b[38;5;28misinstance\u001b[39m(node_or_string, \u001b[38;5;28mstr\u001b[39m):\n\u001b[0;32m---> 64\u001b[0m     node_or_string \u001b[38;5;241m=\u001b[39m \u001b[43mparse\u001b[49m\u001b[43m(\u001b[49m\u001b[43mnode_or_string\u001b[49m\u001b[38;5;241;43m.\u001b[39;49m\u001b[43mlstrip\u001b[49m\u001b[43m(\u001b[49m\u001b[38;5;124;43m\"\u001b[39;49m\u001b[38;5;124;43m \u001b[39;49m\u001b[38;5;130;43;01m\\t\u001b[39;49;00m\u001b[38;5;124;43m\"\u001b[39;49m\u001b[43m)\u001b[49m\u001b[43m,\u001b[49m\u001b[43m \u001b[49m\u001b[43mmode\u001b[49m\u001b[38;5;241;43m=\u001b[39;49m\u001b[38;5;124;43m'\u001b[39;49m\u001b[38;5;124;43meval\u001b[39;49m\u001b[38;5;124;43m'\u001b[39;49m\u001b[43m)\u001b[49m\n\u001b[1;32m     65\u001b[0m \u001b[38;5;28;01mif\u001b[39;00m \u001b[38;5;28misinstance\u001b[39m(node_or_string, Expression):\n",
      "File \u001b[0;32m~/.pyenv/versions/3.10.9/lib/python3.10/ast.py:50\u001b[0m, in \u001b[0;36mparse\u001b[0;34m(source, filename, mode, type_comments, feature_version)\u001b[0m\n\u001b[1;32m     49\u001b[0m \u001b[38;5;66;03m# Else it should be an int giving the minor version for 3.x.\u001b[39;00m\n\u001b[0;32m---> 50\u001b[0m \u001b[38;5;28;01mreturn\u001b[39;00m \u001b[38;5;28;43mcompile\u001b[39;49m\u001b[43m(\u001b[49m\u001b[43msource\u001b[49m\u001b[43m,\u001b[49m\u001b[43m \u001b[49m\u001b[43mfilename\u001b[49m\u001b[43m,\u001b[49m\u001b[43m \u001b[49m\u001b[43mmode\u001b[49m\u001b[43m,\u001b[49m\u001b[43m \u001b[49m\u001b[43mflags\u001b[49m\u001b[43m,\u001b[49m\n\u001b[1;32m     51\u001b[0m \u001b[43m               \u001b[49m\u001b[43m_feature_version\u001b[49m\u001b[38;5;241;43m=\u001b[39;49m\u001b[43mfeature_version\u001b[49m\u001b[43m)\u001b[49m\n",
      "\u001b[0;31mSyntaxError\u001b[0m: invalid syntax (<unknown>, line 0)",
      "\nDuring handling of the above exception, another exception occurred:\n",
      "\u001b[0;31mStopIteration\u001b[0m                             Traceback (most recent call last)",
      "File \u001b[0;32m~/.pyenv/versions/3.10.9/envs/beehive/lib/python3.10/site-packages/irods/session.py:296\u001b[0m, in \u001b[0;36miRODSSession.__server_version\u001b[0;34m(self)\u001b[0m\n\u001b[1;32m    295\u001b[0m \u001b[38;5;28;01mtry\u001b[39;00m:\n\u001b[0;32m--> 296\u001b[0m     conn \u001b[38;5;241m=\u001b[39m \u001b[38;5;28;43mnext\u001b[39;49m\u001b[43m(\u001b[49m\u001b[38;5;28;43miter\u001b[39;49m\u001b[43m(\u001b[49m\u001b[38;5;28;43mself\u001b[39;49m\u001b[38;5;241;43m.\u001b[39;49m\u001b[43mpool\u001b[49m\u001b[38;5;241;43m.\u001b[39;49m\u001b[43mactive\u001b[49m\u001b[43m)\u001b[49m\u001b[43m)\u001b[49m\n\u001b[1;32m    297\u001b[0m     \u001b[38;5;28;01mreturn\u001b[39;00m conn\u001b[38;5;241m.\u001b[39mserver_version\n",
      "\u001b[0;31mStopIteration\u001b[0m: ",
      "\nDuring handling of the above exception, another exception occurred:\n",
      "\u001b[0;31mKeyError\u001b[0m                                  Traceback (most recent call last)",
      "File \u001b[0;32m~/.pyenv/versions/3.10.9/envs/beehive/lib/python3.10/site-packages/irods/pool.py:62\u001b[0m, in \u001b[0;36mPool.get_connection\u001b[0;34m(self)\u001b[0m\n\u001b[1;32m     61\u001b[0m \u001b[38;5;28;01mtry\u001b[39;00m:\n\u001b[0;32m---> 62\u001b[0m     conn \u001b[38;5;241m=\u001b[39m \u001b[38;5;28;43mself\u001b[39;49m\u001b[38;5;241;43m.\u001b[39;49m\u001b[43midle\u001b[49m\u001b[38;5;241;43m.\u001b[39;49m\u001b[43mpop\u001b[49m\u001b[43m(\u001b[49m\u001b[43m)\u001b[49m\n\u001b[1;32m     64\u001b[0m     curr_time \u001b[38;5;241m=\u001b[39m datetime\u001b[38;5;241m.\u001b[39mdatetime\u001b[38;5;241m.\u001b[39mnow()\n",
      "\u001b[0;31mKeyError\u001b[0m: 'pop from an empty set'",
      "\nDuring handling of the above exception, another exception occurred:\n",
      "\u001b[0;31mCAT_INVALID_AUTHENTICATION\u001b[0m                Traceback (most recent call last)",
      "Cell \u001b[0;32mIn[17], line 1\u001b[0m\n\u001b[0;32m----> 1\u001b[0m coll \u001b[38;5;241m=\u001b[39m \u001b[43msession\u001b[49m\u001b[38;5;241;43m.\u001b[39;49m\u001b[43mcollections\u001b[49m\u001b[38;5;241;43m.\u001b[39;49m\u001b[43mget\u001b[49m\u001b[43m(\u001b[49m\u001b[43mhome_dir\u001b[49m\u001b[43m)\u001b[49m\n\u001b[1;32m      2\u001b[0m coll\n",
      "File \u001b[0;32m~/.pyenv/versions/3.10.9/envs/beehive/lib/python3.10/site-packages/irods/manager/collection_manager.py:21\u001b[0m, in \u001b[0;36mCollectionManager.get\u001b[0;34m(self, path)\u001b[0m\n\u001b[1;32m     18\u001b[0m repeats \u001b[38;5;241m=\u001b[39m (\u001b[38;5;28;01mTrue\u001b[39;00m,\u001b[38;5;28;01mFalse\u001b[39;00m) \u001b[38;5;28;01mif\u001b[39;00m \u001b[38;5;28mhasattr\u001b[39m(\u001b[38;5;28mself\u001b[39m\u001b[38;5;241m.\u001b[39msess,\u001b[38;5;124m'\u001b[39m\u001b[38;5;124mticket__\u001b[39m\u001b[38;5;124m'\u001b[39m) \\\n\u001b[1;32m     19\u001b[0m      \u001b[38;5;28;01melse\u001b[39;00m (\u001b[38;5;28;01mFalse\u001b[39;00m,)\n\u001b[1;32m     20\u001b[0m \u001b[38;5;28;01mfor\u001b[39;00m rep \u001b[38;5;129;01min\u001b[39;00m repeats:\n\u001b[0;32m---> 21\u001b[0m     query \u001b[38;5;241m=\u001b[39m \u001b[38;5;28;43mself\u001b[39;49m\u001b[38;5;241;43m.\u001b[39;49m\u001b[43msess\u001b[49m\u001b[38;5;241;43m.\u001b[39;49m\u001b[43mquery\u001b[49m\u001b[43m(\u001b[49m\u001b[43mCollection\u001b[49m\u001b[43m)\u001b[49m\u001b[38;5;241m.\u001b[39mfilter(\u001b[38;5;241m*\u001b[39mfilters)\n\u001b[1;32m     22\u001b[0m     \u001b[38;5;28;01mtry\u001b[39;00m:\n\u001b[1;32m     23\u001b[0m         result \u001b[38;5;241m=\u001b[39m query\u001b[38;5;241m.\u001b[39mone()\n",
      "File \u001b[0;32m~/.pyenv/versions/3.10.9/envs/beehive/lib/python3.10/site-packages/irods/session.py:268\u001b[0m, in \u001b[0;36miRODSSession.query\u001b[0;34m(self, *args, **kwargs)\u001b[0m\n\u001b[1;32m    267\u001b[0m \u001b[38;5;28;01mdef\u001b[39;00m \u001b[38;5;21mquery\u001b[39m(\u001b[38;5;28mself\u001b[39m, \u001b[38;5;241m*\u001b[39margs, \u001b[38;5;241m*\u001b[39m\u001b[38;5;241m*\u001b[39mkwargs):\n\u001b[0;32m--> 268\u001b[0m     \u001b[38;5;28;01mreturn\u001b[39;00m \u001b[43mQuery\u001b[49m\u001b[43m(\u001b[49m\u001b[38;5;28;43mself\u001b[39;49m\u001b[43m,\u001b[49m\u001b[43m \u001b[49m\u001b[38;5;241;43m*\u001b[39;49m\u001b[43margs\u001b[49m\u001b[43m,\u001b[49m\u001b[43m \u001b[49m\u001b[38;5;241;43m*\u001b[39;49m\u001b[38;5;241;43m*\u001b[39;49m\u001b[43mkwargs\u001b[49m\u001b[43m)\u001b[49m\n",
      "File \u001b[0;32m~/.pyenv/versions/3.10.9/envs/beehive/lib/python3.10/site-packages/irods/query.py:45\u001b[0m, in \u001b[0;36mQuery.__init__\u001b[0;34m(self, sess, *args, **kwargs)\u001b[0m\n\u001b[1;32m     43\u001b[0m \u001b[38;5;28;01mif\u001b[39;00m \u001b[38;5;28misinstance\u001b[39m(arg, \u001b[38;5;28mtype\u001b[39m) \u001b[38;5;129;01mand\u001b[39;00m \u001b[38;5;28missubclass\u001b[39m(arg, Model):\n\u001b[1;32m     44\u001b[0m     \u001b[38;5;28;01mfor\u001b[39;00m col \u001b[38;5;129;01min\u001b[39;00m arg\u001b[38;5;241m.\u001b[39m_columns:\n\u001b[0;32m---> 45\u001b[0m         \u001b[38;5;28;01mif\u001b[39;00m \u001b[38;5;28;43mself\u001b[39;49m\u001b[38;5;241;43m.\u001b[39;49m\u001b[43msess\u001b[49m\u001b[38;5;241;43m.\u001b[39;49m\u001b[43mserver_version\u001b[49m \u001b[38;5;241m>\u001b[39m\u001b[38;5;241m=\u001b[39m col\u001b[38;5;241m.\u001b[39mmin_version:\n\u001b[1;32m     46\u001b[0m             \u001b[38;5;28mself\u001b[39m\u001b[38;5;241m.\u001b[39mcolumns[col] \u001b[38;5;241m=\u001b[39m \u001b[38;5;241m1\u001b[39m\n\u001b[1;32m     47\u001b[0m \u001b[38;5;28;01melif\u001b[39;00m \u001b[38;5;28misinstance\u001b[39m(arg, Column):\n",
      "File \u001b[0;32m~/.pyenv/versions/3.10.9/envs/beehive/lib/python3.10/site-packages/irods/session.py:292\u001b[0m, in \u001b[0;36miRODSSession.server_version\u001b[0;34m(self)\u001b[0m\n\u001b[1;32m    290\u001b[0m     \u001b[38;5;28;01mreturn\u001b[39;00m \u001b[38;5;28mtuple\u001b[39m(ast\u001b[38;5;241m.\u001b[39mliteral_eval(reported_vsn))\n\u001b[1;32m    291\u001b[0m \u001b[38;5;28;01mexcept\u001b[39;00m \u001b[38;5;167;01mSyntaxError\u001b[39;00m:  \u001b[38;5;66;03m# environment variable was malformed, empty, or unset\u001b[39;00m\n\u001b[0;32m--> 292\u001b[0m     \u001b[38;5;28;01mreturn\u001b[39;00m \u001b[38;5;28;43mself\u001b[39;49m\u001b[38;5;241;43m.\u001b[39;49m\u001b[43m__server_version\u001b[49m\u001b[43m(\u001b[49m\u001b[43m)\u001b[49m\n",
      "File \u001b[0;32m~/.pyenv/versions/3.10.9/envs/beehive/lib/python3.10/site-packages/irods/session.py:299\u001b[0m, in \u001b[0;36miRODSSession.__server_version\u001b[0;34m(self)\u001b[0m\n\u001b[1;32m    297\u001b[0m     \u001b[38;5;28;01mreturn\u001b[39;00m conn\u001b[38;5;241m.\u001b[39mserver_version\n\u001b[1;32m    298\u001b[0m \u001b[38;5;28;01mexcept\u001b[39;00m \u001b[38;5;167;01mStopIteration\u001b[39;00m:\n\u001b[0;32m--> 299\u001b[0m     conn \u001b[38;5;241m=\u001b[39m \u001b[38;5;28;43mself\u001b[39;49m\u001b[38;5;241;43m.\u001b[39;49m\u001b[43mpool\u001b[49m\u001b[38;5;241;43m.\u001b[39;49m\u001b[43mget_connection\u001b[49m\u001b[43m(\u001b[49m\u001b[43m)\u001b[49m\n\u001b[1;32m    300\u001b[0m     version \u001b[38;5;241m=\u001b[39m conn\u001b[38;5;241m.\u001b[39mserver_version\n\u001b[1;32m    301\u001b[0m     conn\u001b[38;5;241m.\u001b[39mrelease()\n",
      "File \u001b[0;32m~/.pyenv/versions/3.10.9/envs/beehive/lib/python3.10/site-packages/irods/pool.py:17\u001b[0m, in \u001b[0;36mattribute_from_return_value.<locals>.deco.<locals>.method_\u001b[0;34m(self, *s, **kw)\u001b[0m\n\u001b[1;32m     16\u001b[0m \u001b[38;5;28;01mdef\u001b[39;00m \u001b[38;5;21mmethod_\u001b[39m(\u001b[38;5;28mself\u001b[39m,\u001b[38;5;241m*\u001b[39ms,\u001b[38;5;241m*\u001b[39m\u001b[38;5;241m*\u001b[39mkw):\n\u001b[0;32m---> 17\u001b[0m     ret \u001b[38;5;241m=\u001b[39m \u001b[43mmethod\u001b[49m\u001b[43m(\u001b[49m\u001b[38;5;28;43mself\u001b[39;49m\u001b[43m,\u001b[49m\u001b[38;5;241;43m*\u001b[39;49m\u001b[43ms\u001b[49m\u001b[43m,\u001b[49m\u001b[38;5;241;43m*\u001b[39;49m\u001b[38;5;241;43m*\u001b[39;49m\u001b[43mkw\u001b[49m\u001b[43m)\u001b[49m\n\u001b[1;32m     18\u001b[0m     \u001b[38;5;28msetattr\u001b[39m(\u001b[38;5;28mself\u001b[39m,attrname,ret)\n\u001b[1;32m     19\u001b[0m     \u001b[38;5;28;01mreturn\u001b[39;00m ret\n",
      "File \u001b[0;32m~/.pyenv/versions/3.10.9/envs/beehive/lib/python3.10/site-packages/irods/pool.py:78\u001b[0m, in \u001b[0;36mPool.get_connection\u001b[0;34m(self)\u001b[0m\n\u001b[1;32m     76\u001b[0m         logger\u001b[38;5;241m.\u001b[39mdebug(\u001b[38;5;124m\"\u001b[39m\u001b[38;5;124mCreated new connection with id: \u001b[39m\u001b[38;5;132;01m{}\u001b[39;00m\u001b[38;5;124m\"\u001b[39m\u001b[38;5;241m.\u001b[39mformat(\u001b[38;5;28mid\u001b[39m(conn)))\n\u001b[1;32m     77\u001b[0m \u001b[38;5;28;01mexcept\u001b[39;00m \u001b[38;5;167;01mKeyError\u001b[39;00m:\n\u001b[0;32m---> 78\u001b[0m     conn \u001b[38;5;241m=\u001b[39m \u001b[43mConnection\u001b[49m\u001b[43m(\u001b[49m\u001b[38;5;28;43mself\u001b[39;49m\u001b[43m,\u001b[49m\u001b[43m \u001b[49m\u001b[38;5;28;43mself\u001b[39;49m\u001b[38;5;241;43m.\u001b[39;49m\u001b[43maccount\u001b[49m\u001b[43m)\u001b[49m\n\u001b[1;32m     79\u001b[0m     logger\u001b[38;5;241m.\u001b[39mdebug(\u001b[38;5;124m\"\u001b[39m\u001b[38;5;124mNo connection found in idle set. Created a new connection with id: \u001b[39m\u001b[38;5;132;01m{}\u001b[39;00m\u001b[38;5;124m\"\u001b[39m\u001b[38;5;241m.\u001b[39mformat(\u001b[38;5;28mid\u001b[39m(conn)))\n\u001b[1;32m     81\u001b[0m \u001b[38;5;28mself\u001b[39m\u001b[38;5;241m.\u001b[39mactive\u001b[38;5;241m.\u001b[39madd(conn)\n",
      "File \u001b[0;32m~/.pyenv/versions/3.10.9/envs/beehive/lib/python3.10/site-packages/irods/connection.py:75\u001b[0m, in \u001b[0;36mConnection.__init__\u001b[0;34m(self, pool, account)\u001b[0m\n\u001b[1;32m     73\u001b[0m     auth_module \u001b[38;5;241m=\u001b[39m \u001b[38;5;28mgetattr\u001b[39m(irods\u001b[38;5;241m.\u001b[39mauth, scheme, \u001b[38;5;28;01mNone\u001b[39;00m)\n\u001b[1;32m     74\u001b[0m     \u001b[38;5;28;01mif\u001b[39;00m auth_module:\n\u001b[0;32m---> 75\u001b[0m         \u001b[43mauth_module\u001b[49m\u001b[38;5;241;43m.\u001b[39;49m\u001b[43mlogin\u001b[49m\u001b[43m(\u001b[49m\u001b[38;5;28;43mself\u001b[39;49m\u001b[43m)\u001b[49m\n\u001b[1;32m     76\u001b[0m         auth_type \u001b[38;5;241m=\u001b[39m auth_module\u001b[38;5;241m.\u001b[39m\u001b[38;5;18m__name__\u001b[39m\n\u001b[1;32m     77\u001b[0m \u001b[38;5;28;01melse\u001b[39;00m:\n\u001b[1;32m     78\u001b[0m     \u001b[38;5;66;03m# use legacy (iRODS pre-4.3 style) authentication\u001b[39;00m\n",
      "File \u001b[0;32m~/.pyenv/versions/3.10.9/envs/beehive/lib/python3.10/site-packages/irods/auth/native.py:3\u001b[0m, in \u001b[0;36mlogin\u001b[0;34m(conn)\u001b[0m\n\u001b[1;32m      2\u001b[0m \u001b[38;5;28;01mdef\u001b[39;00m \u001b[38;5;21mlogin\u001b[39m(conn):\n\u001b[0;32m----> 3\u001b[0m     \u001b[43mconn\u001b[49m\u001b[38;5;241;43m.\u001b[39;49m\u001b[43m_login_native\u001b[49m\u001b[43m(\u001b[49m\u001b[43m)\u001b[49m\n",
      "File \u001b[0;32m~/.pyenv/versions/3.10.9/envs/beehive/lib/python3.10/site-packages/irods/connection.py:615\u001b[0m, in \u001b[0;36mConnection._login_native\u001b[0;34m(self, password)\u001b[0m\n\u001b[1;32m    612\u001b[0m pwd_request \u001b[38;5;241m=\u001b[39m iRODSMessage(\n\u001b[1;32m    613\u001b[0m     msg_type\u001b[38;5;241m=\u001b[39m\u001b[38;5;124m'\u001b[39m\u001b[38;5;124mRODS_API_REQ\u001b[39m\u001b[38;5;124m'\u001b[39m, int_info\u001b[38;5;241m=\u001b[39mapi_number[\u001b[38;5;124m'\u001b[39m\u001b[38;5;124mAUTH_RESPONSE_AN\u001b[39m\u001b[38;5;124m'\u001b[39m], msg\u001b[38;5;241m=\u001b[39mpwd_msg)\n\u001b[1;32m    614\u001b[0m \u001b[38;5;28mself\u001b[39m\u001b[38;5;241m.\u001b[39msend(pwd_request)\n\u001b[0;32m--> 615\u001b[0m \u001b[38;5;28;43mself\u001b[39;49m\u001b[38;5;241;43m.\u001b[39;49m\u001b[43mrecv\u001b[49m\u001b[43m(\u001b[49m\u001b[43m)\u001b[49m\n",
      "File \u001b[0;32m~/.pyenv/versions/3.10.9/envs/beehive/lib/python3.10/site-packages/irods/connection.py:151\u001b[0m, in \u001b[0;36mConnection.recv\u001b[0;34m(self, into_buffer, return_message, acceptable_errors)\u001b[0m\n\u001b[1;32m    149\u001b[0m         err_msg \u001b[38;5;241m=\u001b[39m \u001b[38;5;28;01mNone\u001b[39;00m\n\u001b[1;32m    150\u001b[0m     \u001b[38;5;28;01mif\u001b[39;00m nominal_code(msg\u001b[38;5;241m.\u001b[39mint_info) \u001b[38;5;129;01mnot\u001b[39;00m \u001b[38;5;129;01min\u001b[39;00m acceptable_codes:\n\u001b[0;32m--> 151\u001b[0m         \u001b[38;5;28;01mraise\u001b[39;00m get_exception_by_code(msg\u001b[38;5;241m.\u001b[39mint_info, err_msg)\n\u001b[1;32m    152\u001b[0m \u001b[38;5;28;01mreturn\u001b[39;00m msg\n",
      "\u001b[0;31mCAT_INVALID_AUTHENTICATION\u001b[0m: None"
     ]
    }
   ],
   "source": [
    "coll = session.collections.get(home_dir)\n",
    "coll"
   ]
  },
  {
   "cell_type": "code",
   "execution_count": 9,
   "id": "8868f041-ab55-4a83-ab41-cf3aa9821721",
   "metadata": {},
   "outputs": [
    {
     "ename": "NameError",
     "evalue": "name 'coll' is not defined",
     "output_type": "error",
     "traceback": [
      "\u001b[0;31m---------------------------------------------------------------------------\u001b[0m",
      "\u001b[0;31mNameError\u001b[0m                                 Traceback (most recent call last)",
      "Cell \u001b[0;32mIn[9], line 1\u001b[0m\n\u001b[0;32m----> 1\u001b[0m \u001b[43mcoll\u001b[49m\u001b[38;5;241m.\u001b[39mpath\n",
      "\u001b[0;31mNameError\u001b[0m: name 'coll' is not defined"
     ]
    }
   ],
   "source": [
    "coll.path"
   ]
  },
  {
   "cell_type": "markdown",
   "id": "6a0263a8-85fb-4f6c-a6fc-c06125e5c9c2",
   "metadata": {},
   "source": [
    "The subcollections and data objects contained in a collection can be retrieved with the `subcollections` and `data_objects` attributes, respectively. We can also use the `.walk()` method to get the full tree.\n",
    "\n",
    "<div class=\"alert alert-block alert-info\">\n",
    "<b>Note</b>: Your output will be different depending on your reading permissions; you'll only see the dataset that you have access to and the collection of your team.\n",
    "</div>"
   ]
  },
  {
   "cell_type": "code",
   "execution_count": null,
   "id": "fd5e4f0a-1523-4409-b531-c1fc4550797a",
   "metadata": {},
   "outputs": [],
   "source": [
    "coll.subcollections"
   ]
  },
  {
   "cell_type": "code",
   "execution_count": null,
   "id": "6baf1713-1227-4a3a-bce2-8988da615816",
   "metadata": {},
   "outputs": [],
   "source": [
    "for item in coll.subcollections[0].walk():\n",
    "    print(f\"{item[0]} contains {len(item[1])} subcollections and {len(item[2])} data objects.\")\n",
    "    if len(item[1]) == 1:\n",
    "        print(\"The subcollection is:\", item[1][0])\n",
    "    if len(item[2]) == 1:\n",
    "        print(\"The data object is:\", item[2][0])\n",
    "    print()"
   ]
  },
  {
   "cell_type": "markdown",
   "id": "1b4db519-9935-46c8-ad1c-f2a805a6dd8d",
   "metadata": {},
   "source": [
    "## Editing data objects and collections in ManGO\n",
    "\n",
    "This section shows how to create new collections and data objects, upload local data to ManGO and remove data objects from ManGO.\n",
    "Here we will create the \"input\" collection inside the \"example\" collection."
   ]
  },
  {
   "cell_type": "code",
   "execution_count": null,
   "id": "eae83a01-5640-4bb2-8b25-d7ab918976ca",
   "metadata": {},
   "outputs": [],
   "source": [
    "example_dir = home_dir + \"example/\"\n",
    "example_coll = session.collections.get(example_dir)\n",
    "example_subcoll = session.collections.create(example_dir + \"input/\") # this won't work if you created it before\n",
    "example_subcoll.path"
   ]
  },
  {
   "cell_type": "code",
   "execution_count": null,
   "id": "a985e85b-3b81-40d3-a2ea-bb40aeccc53b",
   "metadata": {},
   "outputs": [],
   "source": [
    "example_subcoll.data_objects"
   ]
  },
  {
   "cell_type": "code",
   "execution_count": null,
   "id": "062b22b3-86aa-4607-addd-ed9ac2c27cc1",
   "metadata": {},
   "outputs": [],
   "source": [
    "# create a new data object\n",
    "session.data_objects.create(example_dir + \"input/new_object.txt\")\n",
    "example_subcoll.data_objects"
   ]
  },
  {
   "cell_type": "markdown",
   "id": "9fc1f53b-2e53-4b14-989b-ef6403154915",
   "metadata": {},
   "source": [
    "When you have results to upload to ManGO you should save your output locally and then send it to ManGO with `iput()`."
   ]
  },
  {
   "cell_type": "code",
   "execution_count": null,
   "id": "afbbaa9e-59e1-47e6-ab56-4a21f69e91f1",
   "metadata": {},
   "outputs": [],
   "source": [
    "testfile = [f for f in os.listdir() if f.endswith(\"fastq\")][0]\n",
    "testfile"
   ]
  },
  {
   "cell_type": "code",
   "execution_count": null,
   "id": "62bb5d1c-efdb-42f3-971c-457d6d0f5cd9",
   "metadata": {},
   "outputs": [],
   "source": [
    "# send a local file\n",
    "session.data_objects.put(testfile, example_dir + \"input/\" + testfile)\n",
    "example_subcoll.data_objects"
   ]
  },
  {
   "cell_type": "markdown",
   "id": "83d53d0b",
   "metadata": {},
   "source": [
    "For example, this is how the input fastq files that you will use in the exercised were sent to ManGO."
   ]
  },
  {
   "cell_type": "code",
   "execution_count": null,
   "id": "88cf8244-5ee6-408f-9e8a-09c20f388eba",
   "metadata": {},
   "outputs": [],
   "source": [
    "# DO NOT RUN\n",
    "# source_input_dir = \"/staging/leuven/stg_00079/teaching/prep_mango/input\"\n",
    "# for file in os.listdir(source_input_dir):\n",
    "#    session.data_objects.put(f\"{source_input_dir}/{file}\", f\"{home_dir}input/{file}\")"
   ]
  },
  {
   "cell_type": "markdown",
   "id": "35117fcc-019d-4cab-8114-6e22fd088468",
   "metadata": {},
   "source": [
    "Data objects can be removed from ManGO with `unlink()`. The `force` argument indicates whether it should be permanently deleted (`True`) or sent to trash (`False`). Objects in the trash get removed automatically after 14 days."
   ]
  },
  {
   "cell_type": "code",
   "execution_count": null,
   "id": "fb06be4f-21e6-435c-b45b-00b742c09e5f",
   "metadata": {},
   "outputs": [],
   "source": [
    "# remove data objects\n",
    "session.data_objects.unlink(example_dir + \"input/\" + testfile, force=True)\n",
    "example_subcoll.data_objects"
   ]
  },
  {
   "cell_type": "markdown",
   "id": "291ab597-f437-43ae-a605-8b0efed9ce4b",
   "metadata": {},
   "source": [
    "## Download data from ManGO\n",
    "\n",
    "In order to access the data you have on ManGO, you should download it with `get()`. If you provide a second argument with a local path, next to obtaining the normal information about the object you will also download it."
   ]
  },
  {
   "cell_type": "code",
   "execution_count": null,
   "id": "9d5c9461-4be6-4856-9aae-89e889bc27c1",
   "metadata": {},
   "outputs": [],
   "source": [
    "object_to_download = example_coll.data_objects[0]\n",
    "source_path = object_to_download.path\n",
    "filename = object_to_download.name\n",
    "f\"We will move the object in '{source_path}' to (local) '{filename}'.\""
   ]
  },
  {
   "cell_type": "code",
   "execution_count": null,
   "id": "8e342514-5e84-4d09-93c5-665bcb383e58",
   "metadata": {},
   "outputs": [],
   "source": [
    "os.path.exists(filename)"
   ]
  },
  {
   "cell_type": "code",
   "execution_count": null,
   "id": "b567ac51-1b29-43ab-af07-f17e57d9f0eb",
   "metadata": {
    "tags": []
   },
   "outputs": [],
   "source": [
    "session.data_objects.get(source_path, filename)\n",
    "os.path.exists(filename)"
   ]
  },
  {
   "cell_type": "markdown",
   "id": "eef80d49-0d19-476d-a7dc-d3adc43783d6",
   "metadata": {},
   "source": [
    "Once you have download the file you can use normal Python commands to do something with it, like read the contents of a text file or show an image."
   ]
  },
  {
   "cell_type": "code",
   "execution_count": null,
   "id": "4f79e836-060d-40f5-b224-7eb64165cac6",
   "metadata": {
    "tags": []
   },
   "outputs": [],
   "source": [
    "with open(filename, 'r') as f:\n",
    "    first_line = f.readline()\n",
    "first_line"
   ]
  },
  {
   "cell_type": "markdown",
   "id": "ada118e2",
   "metadata": {},
   "source": [
    "# Checksum\n",
    "\n",
    "You can check the sha2 checksums with the `checksum` attribute, if they have been set with the `chksum()` method. If you just set them you won't be able to retrieve them."
   ]
  },
  {
   "cell_type": "code",
   "execution_count": null,
   "id": "1d2ec61c",
   "metadata": {},
   "outputs": [],
   "source": [
    "obj = session.data_objects.get(source_path)"
   ]
  },
  {
   "cell_type": "code",
   "execution_count": null,
   "id": "61379963",
   "metadata": {},
   "outputs": [],
   "source": [
    "obj.checksum"
   ]
  },
  {
   "cell_type": "markdown",
   "id": "729e4226-cfee-4c6a-b137-57f4bac5ca5b",
   "metadata": {},
   "source": [
    "## Metadata\n",
    "\n",
    "An important feature of Tier 1-Data/iRODS is the ability to add metadata to collections and data objects. More interestingly, we can use the `mango-mdschema` package to add structure metadata and validate it against a schema."
   ]
  },
  {
   "cell_type": "code",
   "execution_count": null,
   "id": "81e38654-88a9-4a89-a908-0411022c1a98",
   "metadata": {},
   "outputs": [],
   "source": [
    "obj.metadata.items()"
   ]
  },
  {
   "cell_type": "code",
   "execution_count": null,
   "id": "2bf8cc4d-1ac4-4370-ac63-6fe217600811",
   "metadata": {},
   "outputs": [],
   "source": [
    "fastq_schema = Schema(\"fastq-3.0.0-published.json\")"
   ]
  },
  {
   "cell_type": "code",
   "execution_count": null,
   "id": "07ef823b",
   "metadata": {},
   "outputs": [],
   "source": [
    "print(fastq_schema)"
   ]
  },
  {
   "cell_type": "code",
   "execution_count": null,
   "id": "142d61c1",
   "metadata": {},
   "outputs": [],
   "source": [
    "fastq_schema.print_requirements(\"sample\")"
   ]
  },
  {
   "cell_type": "code",
   "execution_count": null,
   "id": "0206f322",
   "metadata": {},
   "outputs": [],
   "source": [
    "fastq_schema.print_requirements(\"organism\")"
   ]
  },
  {
   "cell_type": "code",
   "execution_count": null,
   "id": "8a134123",
   "metadata": {},
   "outputs": [],
   "source": [
    "fastq_schema.print_requirements(\"fastq\")"
   ]
  },
  {
   "cell_type": "code",
   "execution_count": null,
   "id": "a18d0af7",
   "metadata": {},
   "outputs": [],
   "source": [
    "example_metadata = {\n",
    "    \"sample\": {\n",
    "        \"sample_id\": \"18S_amplicon\",\n",
    "        \"condition\": \"normal\"\n",
    "    },\n",
    "    \"organism\": \"Mouse\",\n",
    "    \"fastq\" : {\n",
    "        \"encoding\": \"phred64\",\n",
    "        \"no_records\": 109831\n",
    "    }\n",
    "}\n",
    "fastq_schema.validate(example_metadata)"
   ]
  },
  {
   "cell_type": "code",
   "execution_count": null,
   "id": "123114eb",
   "metadata": {},
   "outputs": [],
   "source": [
    "example_metadata = {\n",
    "    \"sample\": {\n",
    "        \"sample_id\": \"18S_amplicon\",\n",
    "        \"condition\": \"normal\"\n",
    "    },\n",
    "    \"organism\": \"mouse\",\n",
    "    \"fastq\" : {\n",
    "        \"encoding\": \"Phred+64\",\n",
    "        \"no_records\": \"109831\"\n",
    "    }\n",
    "}\n",
    "fastq_schema.validate(example_metadata)"
   ]
  },
  {
   "cell_type": "code",
   "execution_count": null,
   "id": "285486d0",
   "metadata": {},
   "outputs": [],
   "source": [
    "fastq_schema.apply(obj, example_metadata)"
   ]
  },
  {
   "cell_type": "code",
   "execution_count": null,
   "id": "46c29db4",
   "metadata": {},
   "outputs": [],
   "source": [
    "obj.metadata.items()"
   ]
  },
  {
   "cell_type": "code",
   "execution_count": null,
   "id": "9b974de7",
   "metadata": {},
   "outputs": [],
   "source": [
    "fastq_schema.from_avus(obj.metadata.items())"
   ]
  },
  {
   "cell_type": "markdown",
   "id": "bfab3e5a",
   "metadata": {},
   "source": [
    "It is also possible to retrieve a particular metadata item (`iRODSMeta` instance) by its name. The `iRODSMeta` instance has `name`, `value` and `units`:"
   ]
  },
  {
   "cell_type": "code",
   "execution_count": null,
   "id": "b270697f",
   "metadata": {},
   "outputs": [],
   "source": [
    "one_avu = obj.metadata[\"mgs.fastq.fastq.no_records\"]\n",
    "print(\"Name: \", one_avu.name)\n",
    "print(\"Value: \", one_avu.value)\n",
    "print(\"Units: \", one_avu.units)"
   ]
  },
  {
   "cell_type": "markdown",
   "id": "968789cb-53e5-46bd-a2db-05e8ad53adcf",
   "metadata": {},
   "source": [
    "## Queries\n",
    "\n",
    "We can run queries with `session.query()`, which collects information from collections, data objects, and their metadata with specific classes. More interestingly, we can filter that information based on certain Criteria.\n",
    "\n",
    "\n",
    "Class | Information about | Useful attributes\n",
    "---- | ------ | ----------\n",
    "`Collection` | A collection | `name`, `owner_name`, `id` ...\n",
    "`DataObject` | A data object | `name`, `path`, `size`, `owner_name`, `id` ...\n",
    "`CollectionMeta` | The metadata of a collection | `name`, `value`, `units`, ...\n",
    "`DataObjectMeta` | The metadata of a data object | `name`, `value`, `units`, ..."
   ]
  },
  {
   "cell_type": "code",
   "execution_count": null,
   "id": "b9170fc0-11f2-46dc-aca6-3c6103ff4604",
   "metadata": {},
   "outputs": [],
   "source": [
    "from irods.models import Collection, DataObject, CollectionMeta, DataObjectMeta\n",
    "from irods.column import Criterion"
   ]
  },
  {
   "cell_type": "markdown",
   "id": "19b2a8e9-d4d5-4460-be2c-379c96f3a4d9",
   "metadata": {},
   "source": [
    "The following query retrieves all the collections inside our project collection (`home_dir`), regardless of their depth, and prints their paths."
   ]
  },
  {
   "cell_type": "code",
   "execution_count": null,
   "id": "0e0b458c-43f7-4c4d-9b9e-ebe359ccecef",
   "metadata": {},
   "outputs": [],
   "source": [
    "query = session.query(Collection.name)\n",
    "for result in query:\n",
    "    if result[Collection.name].startswith(home_dir):\n",
    "        print(result[Collection.name])"
   ]
  },
  {
   "cell_type": "markdown",
   "id": "bbbf4155-4813-4dd0-9f36-6393649a4fa3",
   "metadata": {},
   "source": [
    "In the cells below, we request the path of our collections and the names and date of creation of our data objects.\n",
    "Then we filter the results based on the following criteria:\n",
    "\n",
    "- The collection path has to end in \"put\" ('like' + '%put')\n",
    "- The data object is smaller than 1GB in size.\n",
    "- The data object must have been created after '2023-01-27 13:45:25'.\n",
    "    + In order to define the date-time threshold we use the `datetime` library.\n",
    "- The data object should have an \"organism\" metadata item from the \"fastq\" schema with value \"human\"."
   ]
  },
  {
   "cell_type": "code",
   "execution_count": null,
   "id": "1192b49c-502a-417a-8e04-30e702f18f1c",
   "metadata": {},
   "outputs": [],
   "source": [
    "import datetime\n",
    "threshold = datetime.datetime.fromisoformat('2023-01-27 13:45:25')"
   ]
  },
  {
   "cell_type": "code",
   "execution_count": null,
   "id": "d49a5ba1-e759-4284-a977-3ebe9b3240bc",
   "metadata": {},
   "outputs": [],
   "source": [
    "my_files = session.query(Collection.name, DataObject.name, DataObject.create_time, DataObject.path).filter(\n",
    "    Criterion('like', Collection.name, '%ple')).filter(\n",
    "    Criterion('<', DataObject.size, 1000000000)).filter(\n",
    "    Criterion('>', DataObject.create_time, threshold)).filter(\n",
    "    Criterion('=', DataObjectMeta.name, 'mgs.fastq.fastq.encoding')).filter(\n",
    "    Criterion('=', DataObjectMeta.value, 'Phred+64')\n",
    "    )\n",
    "for item in my_files:\n",
    "    print(item[DataObject.name], item[Collection.name], item[DataObject.create_time])"
   ]
  },
  {
   "cell_type": "code",
   "execution_count": null,
   "id": "49897fc3",
   "metadata": {},
   "outputs": [],
   "source": [
    "[item[DataObject.path] for item in my_files] # DO NOT USE THIS FOR DOWNLOADING"
   ]
  },
  {
   "cell_type": "code",
   "execution_count": null,
   "id": "7c1c8f38",
   "metadata": {},
   "outputs": [],
   "source": [
    "[f\"{item[Collection.name]}/{item[DataObject.name]}\" for item in my_files] # THIS WORKS FOR DOWNLOADING"
   ]
  },
  {
   "cell_type": "markdown",
   "id": "5365edd7-df86-49d9-8473-ab10bd8e7983",
   "metadata": {},
   "source": [
    "The `.execute()` method returns a printable table with the columns requested in `.query()`."
   ]
  },
  {
   "cell_type": "code",
   "execution_count": null,
   "id": "483543bc-da06-4013-adcf-0a6e0756bee2",
   "metadata": {},
   "outputs": [],
   "source": [
    "print(my_files.execute())"
   ]
  },
  {
   "cell_type": "markdown",
   "id": "f05af7fa-54b7-4fbf-8047-f28c6899214e",
   "metadata": {
    "tags": []
   },
   "source": [
    "## CLEAN UP \n",
    "<div class=\"alert alert-block alert-warning\">\n",
    "    <font size=4><b>Do not forget to clean up your session!</b></font>\n",
    "</div>"
   ]
  },
  {
   "cell_type": "code",
   "execution_count": null,
   "id": "d5ac3e5c-9bcb-4e3c-a385-4193245c4bc2",
   "metadata": {},
   "outputs": [],
   "source": [
    "# leave this cell at the end and running every time you are done\n",
    "session.cleanup()"
   ]
  },
  {
   "cell_type": "code",
   "execution_count": null,
   "id": "49275fad",
   "metadata": {},
   "outputs": [],
   "source": [
    "# RESET in order to replay the demo\n",
    "session.collections.get(example_dir + \"input/\").remove()\n",
    "os.remove(filename)"
   ]
  }
 ],
 "metadata": {
  "kernelspec": {
   "display_name": "venv",
   "language": "python",
   "name": "python3"
  },
  "language_info": {
   "codemirror_mode": {
    "name": "ipython",
    "version": 3
   },
   "file_extension": ".py",
   "mimetype": "text/x-python",
   "name": "python",
   "nbconvert_exporter": "python",
   "pygments_lexer": "ipython3",
   "version": "3.10.9"
  }
 },
 "nbformat": 4,
 "nbformat_minor": 5
}
